{
 "cells": [
  {
   "cell_type": "markdown",
   "id": "7291a4da",
   "metadata": {
    "vscode": {
     "languageId": "plaintext"
    }
   },
   "source": [
    "# 과제(~10/11)\n",
    "1. EDA(성별에 따른 이탈률 등)\n",
    "2. 결측치 처리 코드 짜기\n",
    "3. 문자형 데이터 처리 코드, 스케일링 코드 짜기\n",
    "...\n",
    "\n",
    "- \"이탈 고객 예측\""
   ]
  },
  {
   "cell_type": "markdown",
   "id": "aca7a983",
   "metadata": {
    "vscode": {
     "languageId": "plaintext"
    }
   },
   "source": [
    "## 1. 환경설정"
   ]
  },
  {
   "cell_type": "code",
   "execution_count": 104,
   "id": "997d807c",
   "metadata": {},
   "outputs": [],
   "source": [
    "import pandas as pd\n",
    "import numpy as np\n",
    "import matplotlib.pyplot as plt\n",
    "import seaborn as sns\n",
    "import koreanize_matplotlib\n",
    "from sklearn.preprocessing import LabelEncoder, StandardScaler\n",
    "import warnings\n",
    "warnings.filterwarnings('ignore')\n",
    "\n",
    "plt.rc(\"font\", family = \"Malgun Gothic\")\n",
    "sns.set(font=\"Malgun Gothic\", \n",
    "rc={\"axes.unicode_minus\":False}, style='white')\n"
   ]
  },
  {
   "cell_type": "markdown",
   "id": "a0b3615a",
   "metadata": {},
   "source": [
    "## 2. 데이터 로드 및 확인\n",
    "- y: Churn(지난 달 이탈고객)"
   ]
  },
  {
   "cell_type": "code",
   "execution_count": 28,
   "id": "78794e90",
   "metadata": {},
   "outputs": [],
   "source": [
    "path = 'WA_Fn-UseC_-Telco-Customer-Churn.csv'\n",
    "df = pd.read_csv(path)"
   ]
  },
  {
   "cell_type": "code",
   "execution_count": 29,
   "id": "ec035561",
   "metadata": {},
   "outputs": [
    {
     "data": {
      "text/html": [
       "<div>\n",
       "<style scoped>\n",
       "    .dataframe tbody tr th:only-of-type {\n",
       "        vertical-align: middle;\n",
       "    }\n",
       "\n",
       "    .dataframe tbody tr th {\n",
       "        vertical-align: top;\n",
       "    }\n",
       "\n",
       "    .dataframe thead th {\n",
       "        text-align: right;\n",
       "    }\n",
       "</style>\n",
       "<table border=\"1\" class=\"dataframe\">\n",
       "  <thead>\n",
       "    <tr style=\"text-align: right;\">\n",
       "      <th></th>\n",
       "      <th>customerID</th>\n",
       "      <th>gender</th>\n",
       "      <th>SeniorCitizen</th>\n",
       "      <th>Partner</th>\n",
       "      <th>Dependents</th>\n",
       "      <th>tenure</th>\n",
       "      <th>PhoneService</th>\n",
       "      <th>MultipleLines</th>\n",
       "      <th>InternetService</th>\n",
       "      <th>OnlineSecurity</th>\n",
       "      <th>...</th>\n",
       "      <th>DeviceProtection</th>\n",
       "      <th>TechSupport</th>\n",
       "      <th>StreamingTV</th>\n",
       "      <th>StreamingMovies</th>\n",
       "      <th>Contract</th>\n",
       "      <th>PaperlessBilling</th>\n",
       "      <th>PaymentMethod</th>\n",
       "      <th>MonthlyCharges</th>\n",
       "      <th>TotalCharges</th>\n",
       "      <th>Churn</th>\n",
       "    </tr>\n",
       "  </thead>\n",
       "  <tbody>\n",
       "    <tr>\n",
       "      <th>7038</th>\n",
       "      <td>6840-RESVB</td>\n",
       "      <td>Male</td>\n",
       "      <td>0</td>\n",
       "      <td>Yes</td>\n",
       "      <td>Yes</td>\n",
       "      <td>24</td>\n",
       "      <td>Yes</td>\n",
       "      <td>Yes</td>\n",
       "      <td>DSL</td>\n",
       "      <td>Yes</td>\n",
       "      <td>...</td>\n",
       "      <td>Yes</td>\n",
       "      <td>Yes</td>\n",
       "      <td>Yes</td>\n",
       "      <td>Yes</td>\n",
       "      <td>One year</td>\n",
       "      <td>Yes</td>\n",
       "      <td>Mailed check</td>\n",
       "      <td>84.80</td>\n",
       "      <td>1990.5</td>\n",
       "      <td>No</td>\n",
       "    </tr>\n",
       "    <tr>\n",
       "      <th>7039</th>\n",
       "      <td>2234-XADUH</td>\n",
       "      <td>Female</td>\n",
       "      <td>0</td>\n",
       "      <td>Yes</td>\n",
       "      <td>Yes</td>\n",
       "      <td>72</td>\n",
       "      <td>Yes</td>\n",
       "      <td>Yes</td>\n",
       "      <td>Fiber optic</td>\n",
       "      <td>No</td>\n",
       "      <td>...</td>\n",
       "      <td>Yes</td>\n",
       "      <td>No</td>\n",
       "      <td>Yes</td>\n",
       "      <td>Yes</td>\n",
       "      <td>One year</td>\n",
       "      <td>Yes</td>\n",
       "      <td>Credit card (automatic)</td>\n",
       "      <td>103.20</td>\n",
       "      <td>7362.9</td>\n",
       "      <td>No</td>\n",
       "    </tr>\n",
       "    <tr>\n",
       "      <th>7040</th>\n",
       "      <td>4801-JZAZL</td>\n",
       "      <td>Female</td>\n",
       "      <td>0</td>\n",
       "      <td>Yes</td>\n",
       "      <td>Yes</td>\n",
       "      <td>11</td>\n",
       "      <td>No</td>\n",
       "      <td>No phone service</td>\n",
       "      <td>DSL</td>\n",
       "      <td>Yes</td>\n",
       "      <td>...</td>\n",
       "      <td>No</td>\n",
       "      <td>No</td>\n",
       "      <td>No</td>\n",
       "      <td>No</td>\n",
       "      <td>Month-to-month</td>\n",
       "      <td>Yes</td>\n",
       "      <td>Electronic check</td>\n",
       "      <td>29.60</td>\n",
       "      <td>346.45</td>\n",
       "      <td>No</td>\n",
       "    </tr>\n",
       "    <tr>\n",
       "      <th>7041</th>\n",
       "      <td>8361-LTMKD</td>\n",
       "      <td>Male</td>\n",
       "      <td>1</td>\n",
       "      <td>Yes</td>\n",
       "      <td>No</td>\n",
       "      <td>4</td>\n",
       "      <td>Yes</td>\n",
       "      <td>Yes</td>\n",
       "      <td>Fiber optic</td>\n",
       "      <td>No</td>\n",
       "      <td>...</td>\n",
       "      <td>No</td>\n",
       "      <td>No</td>\n",
       "      <td>No</td>\n",
       "      <td>No</td>\n",
       "      <td>Month-to-month</td>\n",
       "      <td>Yes</td>\n",
       "      <td>Mailed check</td>\n",
       "      <td>74.40</td>\n",
       "      <td>306.6</td>\n",
       "      <td>Yes</td>\n",
       "    </tr>\n",
       "    <tr>\n",
       "      <th>7042</th>\n",
       "      <td>3186-AJIEK</td>\n",
       "      <td>Male</td>\n",
       "      <td>0</td>\n",
       "      <td>No</td>\n",
       "      <td>No</td>\n",
       "      <td>66</td>\n",
       "      <td>Yes</td>\n",
       "      <td>No</td>\n",
       "      <td>Fiber optic</td>\n",
       "      <td>Yes</td>\n",
       "      <td>...</td>\n",
       "      <td>Yes</td>\n",
       "      <td>Yes</td>\n",
       "      <td>Yes</td>\n",
       "      <td>Yes</td>\n",
       "      <td>Two year</td>\n",
       "      <td>Yes</td>\n",
       "      <td>Bank transfer (automatic)</td>\n",
       "      <td>105.65</td>\n",
       "      <td>6844.5</td>\n",
       "      <td>No</td>\n",
       "    </tr>\n",
       "  </tbody>\n",
       "</table>\n",
       "<p>5 rows × 21 columns</p>\n",
       "</div>"
      ],
      "text/plain": [
       "      customerID  gender  SeniorCitizen Partner Dependents  tenure  \\\n",
       "7038  6840-RESVB    Male              0     Yes        Yes      24   \n",
       "7039  2234-XADUH  Female              0     Yes        Yes      72   \n",
       "7040  4801-JZAZL  Female              0     Yes        Yes      11   \n",
       "7041  8361-LTMKD    Male              1     Yes         No       4   \n",
       "7042  3186-AJIEK    Male              0      No         No      66   \n",
       "\n",
       "     PhoneService     MultipleLines InternetService OnlineSecurity  ...  \\\n",
       "7038          Yes               Yes             DSL            Yes  ...   \n",
       "7039          Yes               Yes     Fiber optic             No  ...   \n",
       "7040           No  No phone service             DSL            Yes  ...   \n",
       "7041          Yes               Yes     Fiber optic             No  ...   \n",
       "7042          Yes                No     Fiber optic            Yes  ...   \n",
       "\n",
       "     DeviceProtection TechSupport StreamingTV StreamingMovies        Contract  \\\n",
       "7038              Yes         Yes         Yes             Yes        One year   \n",
       "7039              Yes          No         Yes             Yes        One year   \n",
       "7040               No          No          No              No  Month-to-month   \n",
       "7041               No          No          No              No  Month-to-month   \n",
       "7042              Yes         Yes         Yes             Yes        Two year   \n",
       "\n",
       "     PaperlessBilling              PaymentMethod MonthlyCharges  TotalCharges  \\\n",
       "7038              Yes               Mailed check          84.80        1990.5   \n",
       "7039              Yes    Credit card (automatic)         103.20        7362.9   \n",
       "7040              Yes           Electronic check          29.60        346.45   \n",
       "7041              Yes               Mailed check          74.40         306.6   \n",
       "7042              Yes  Bank transfer (automatic)         105.65        6844.5   \n",
       "\n",
       "     Churn  \n",
       "7038    No  \n",
       "7039    No  \n",
       "7040    No  \n",
       "7041   Yes  \n",
       "7042    No  \n",
       "\n",
       "[5 rows x 21 columns]"
      ]
     },
     "execution_count": 29,
     "metadata": {},
     "output_type": "execute_result"
    }
   ],
   "source": [
    "df.tail()"
   ]
  },
  {
   "cell_type": "code",
   "execution_count": 30,
   "id": "96d3a9aa",
   "metadata": {},
   "outputs": [
    {
     "data": {
      "text/plain": [
       "(7043, 21)"
      ]
     },
     "execution_count": 30,
     "metadata": {},
     "output_type": "execute_result"
    }
   ],
   "source": [
    "df.shape"
   ]
  },
  {
   "cell_type": "code",
   "execution_count": 31,
   "id": "bc240557",
   "metadata": {},
   "outputs": [
    {
     "name": "stdout",
     "output_type": "stream",
     "text": [
      "<class 'pandas.core.frame.DataFrame'>\n",
      "RangeIndex: 7043 entries, 0 to 7042\n",
      "Data columns (total 21 columns):\n",
      " #   Column            Non-Null Count  Dtype  \n",
      "---  ------            --------------  -----  \n",
      " 0   customerID        7043 non-null   object \n",
      " 1   gender            7043 non-null   object \n",
      " 2   SeniorCitizen     7043 non-null   int64  \n",
      " 3   Partner           7043 non-null   object \n",
      " 4   Dependents        7043 non-null   object \n",
      " 5   tenure            7043 non-null   int64  \n",
      " 6   PhoneService      7043 non-null   object \n",
      " 7   MultipleLines     7043 non-null   object \n",
      " 8   InternetService   7043 non-null   object \n",
      " 9   OnlineSecurity    7043 non-null   object \n",
      " 10  OnlineBackup      7043 non-null   object \n",
      " 11  DeviceProtection  7043 non-null   object \n",
      " 12  TechSupport       7043 non-null   object \n",
      " 13  StreamingTV       7043 non-null   object \n",
      " 14  StreamingMovies   7043 non-null   object \n",
      " 15  Contract          7043 non-null   object \n",
      " 16  PaperlessBilling  7043 non-null   object \n",
      " 17  PaymentMethod     7043 non-null   object \n",
      " 18  MonthlyCharges    7043 non-null   float64\n",
      " 19  TotalCharges      7043 non-null   object \n",
      " 20  Churn             7043 non-null   object \n",
      "dtypes: float64(1), int64(2), object(18)\n",
      "memory usage: 1.1+ MB\n"
     ]
    }
   ],
   "source": [
    "df.info()"
   ]
  },
  {
   "cell_type": "markdown",
   "id": "f4832506",
   "metadata": {},
   "source": [
    "## 3. 결측치 및 이상치 확인\n",
    "- TotalCharges 공백 결측 11개 존재 -> 제거\n",
    "- 이상치 없음"
   ]
  },
  {
   "cell_type": "code",
   "execution_count": null,
   "id": "79b81e48",
   "metadata": {},
   "outputs": [
    {
     "data": {
      "text/plain": [
       "customerID          0\n",
       "gender              0\n",
       "SeniorCitizen       0\n",
       "Partner             0\n",
       "Dependents          0\n",
       "tenure              0\n",
       "PhoneService        0\n",
       "MultipleLines       0\n",
       "InternetService     0\n",
       "OnlineSecurity      0\n",
       "OnlineBackup        0\n",
       "DeviceProtection    0\n",
       "TechSupport         0\n",
       "StreamingTV         0\n",
       "StreamingMovies     0\n",
       "Contract            0\n",
       "PaperlessBilling    0\n",
       "PaymentMethod       0\n",
       "MonthlyCharges      0\n",
       "TotalCharges        0\n",
       "Churn               0\n",
       "dtype: int64"
      ]
     },
     "execution_count": 32,
     "metadata": {},
     "output_type": "execute_result"
    }
   ],
   "source": [
    "# 결측치 확인\n",
    "df.isna().sum()  # 결측치 없음(밑에 확인 필요)\n",
    "# 1012회의: 데이터가 크면 isna 오래걸려서 그냥 함수 만들어서 na본다고 함"
   ]
  },
  {
   "cell_type": "code",
   "execution_count": 33,
   "id": "1b816968",
   "metadata": {},
   "outputs": [],
   "source": [
    "# 이상치 확인\n",
    "## numeric(tenure, MonthlyCharges, TotalCharges)\n",
    "num_x = df.loc[:, ['tenure', 'MonthlyCharges', 'TotalCharges']]\n",
    "\n",
    "## TotalCharges의 Object to float 형변환 과정에서 공백으로 된 결측 발견\n",
    "#num_x['TotalCharges'] = num_x['TotalCharges'].astype(float)"
   ]
  },
  {
   "cell_type": "code",
   "execution_count": 34,
   "id": "795ac7b3",
   "metadata": {},
   "outputs": [],
   "source": [
    "# 전체 데이터 중 일부이므로 삭제\n",
    "len(num_x[num_x['TotalCharges'] == ' '])  # 총 11개\n",
    "df_clean1 = df[df['TotalCharges'] != ' '].copy()\n",
    "\n",
    "# TotalCharges 형변환\n",
    "df_clean1['TotalCharges'] = df_clean1['TotalCharges'].astype(float)"
   ]
  },
  {
   "cell_type": "code",
   "execution_count": 35,
   "id": "9ffeb485",
   "metadata": {},
   "outputs": [
    {
     "data": {
      "text/html": [
       "<div>\n",
       "<style scoped>\n",
       "    .dataframe tbody tr th:only-of-type {\n",
       "        vertical-align: middle;\n",
       "    }\n",
       "\n",
       "    .dataframe tbody tr th {\n",
       "        vertical-align: top;\n",
       "    }\n",
       "\n",
       "    .dataframe thead th {\n",
       "        text-align: right;\n",
       "    }\n",
       "</style>\n",
       "<table border=\"1\" class=\"dataframe\">\n",
       "  <thead>\n",
       "    <tr style=\"text-align: right;\">\n",
       "      <th></th>\n",
       "      <th>tenure</th>\n",
       "      <th>MonthlyCharges</th>\n",
       "      <th>TotalCharges</th>\n",
       "    </tr>\n",
       "  </thead>\n",
       "  <tbody>\n",
       "    <tr>\n",
       "      <th>count</th>\n",
       "      <td>7032.000000</td>\n",
       "      <td>7032.000000</td>\n",
       "      <td>7032.000000</td>\n",
       "    </tr>\n",
       "    <tr>\n",
       "      <th>mean</th>\n",
       "      <td>32.421786</td>\n",
       "      <td>64.798208</td>\n",
       "      <td>2283.300441</td>\n",
       "    </tr>\n",
       "    <tr>\n",
       "      <th>std</th>\n",
       "      <td>24.545260</td>\n",
       "      <td>30.085974</td>\n",
       "      <td>2266.771362</td>\n",
       "    </tr>\n",
       "    <tr>\n",
       "      <th>min</th>\n",
       "      <td>1.000000</td>\n",
       "      <td>18.250000</td>\n",
       "      <td>18.800000</td>\n",
       "    </tr>\n",
       "    <tr>\n",
       "      <th>25%</th>\n",
       "      <td>9.000000</td>\n",
       "      <td>35.587500</td>\n",
       "      <td>401.450000</td>\n",
       "    </tr>\n",
       "    <tr>\n",
       "      <th>50%</th>\n",
       "      <td>29.000000</td>\n",
       "      <td>70.350000</td>\n",
       "      <td>1397.475000</td>\n",
       "    </tr>\n",
       "    <tr>\n",
       "      <th>75%</th>\n",
       "      <td>55.000000</td>\n",
       "      <td>89.862500</td>\n",
       "      <td>3794.737500</td>\n",
       "    </tr>\n",
       "    <tr>\n",
       "      <th>max</th>\n",
       "      <td>72.000000</td>\n",
       "      <td>118.750000</td>\n",
       "      <td>8684.800000</td>\n",
       "    </tr>\n",
       "  </tbody>\n",
       "</table>\n",
       "</div>"
      ],
      "text/plain": [
       "            tenure  MonthlyCharges  TotalCharges\n",
       "count  7032.000000     7032.000000   7032.000000\n",
       "mean     32.421786       64.798208   2283.300441\n",
       "std      24.545260       30.085974   2266.771362\n",
       "min       1.000000       18.250000     18.800000\n",
       "25%       9.000000       35.587500    401.450000\n",
       "50%      29.000000       70.350000   1397.475000\n",
       "75%      55.000000       89.862500   3794.737500\n",
       "max      72.000000      118.750000   8684.800000"
      ]
     },
     "execution_count": 35,
     "metadata": {},
     "output_type": "execute_result"
    }
   ],
   "source": [
    "# 이상치 확인 다시 진행\n",
    "## numeric(tenure, MonthlyCharges, TotalCharges)\n",
    "num_x = df_clean1.loc[:, ['tenure', 'MonthlyCharges', 'TotalCharges']]\n",
    "num_x.describe()"
   ]
  },
  {
   "cell_type": "code",
   "execution_count": null,
   "id": "dbb4baa9",
   "metadata": {},
   "outputs": [],
   "source": [
    "## 1012 회의 추가사항\n",
    "\n",
    "# describe()\n",
    "# cnt변수? 생성\n",
    "# countplot의 사용(성별의 경우 수 불균형 데이터가 아니니까 비율말고 단순 count로 봐도 괜찮을듯?)\n",
    "# 시각화 결과를 제목에 같이 넣어보기\n",
    "# EDA보여줄 때 수치적인 표+그래프 이렇게 보여주기(코랩 참고)\n",
    "# 나머지 변수들도 동일하게 EDA하기\n",
    "# int에 해당하는 변수들(tenure, MonthlyCharges, TotalCharges) 시각화\n",
    "# 연속형 변수는 일단 히스토그램으로 그려보기(카테고리컬 변수는 막대 그래프가 디폴트!)\n",
    "# 히스토그램 그려서 전반적인 분포 파악하기\n",
    "# 멘토님의 경우 구간별로 나눔(ex. 1~100이면 10씩 쪼갬 or 구성비 비슷하게 맞춰서 쪼갬)\n",
    "# bin(7단위로 나눔(편한대로)) 함수 만들어서 쓰심(코랩 참고)\n",
    "# uniform binning(값 기준 비닝), 근데 값 기준 비닝이 특정 값만 많이 들어가고 그러면\n",
    "# 구성비를 고려해서 하는 quantil? binning 을 함(거의 많이 사용, 보통 불균형 데이터가 많으니)\n",
    "# 뭘 쓰든 내 맘이지만 왜 썼는지, 그 기준 이런걸 잘 설명하기\n",
    "# 금융권은 WOA 비닝?? 꼭 찾아보기!!\n",
    "# 상관관계도 보기\n",
    "# 수치가 유의미한 차이인지(ex. 24% 26%) 통계적 검정으로도 보여주고, 그림으로도 같이 보여주는게 베스트!\n",
    "# 컬럼 명세 작성하는거 배우기(count, na count, unique, type 등등 빨간 글씨 하신 부분 중요)\n",
    "# 컬럼 명세 실무에서도 엑셀에 명세 정리하는지? ㅇㅇ 팀 사이트에 따로 하기도 하지만 엑셀에도 한다~\n",
    "# information value도 꼭 찾아보기!! 모든 변수 EDA를 하기 보다는, y에 유의미한 변수들을 골라서 함(or 랜포나 light gbm 돌려서 상위에 나온 변수로 eda 하기도 함)\n",
    "# 박스플롯은 금융 실무에서 잘 안 쓴다...\n",
    "# 등등 코랩 참고\n",
    "# 메타 데이터 참고 사이트(https://medium.com/@zulfikarirham02/telco-customer-churn-prediction-using-machine-learning-and-deep-learning-8d1905b04980)"
   ]
  },
  {
   "cell_type": "code",
   "execution_count": 36,
   "id": "037e0103",
   "metadata": {},
   "outputs": [
    {
     "data": {
      "image/png": "[encoded data removed]",
      "text/plain": [
       "<Figure size 1080x360 with 3 Axes>"
      ]
     },
     "metadata": {},
     "output_type": "display_data"
    }
   ],
   "source": [
    "# 이상치 확인(boxplot)\n",
    "fig, ax = plt.subplots(1, 3, figsize=(15, 5))\n",
    "box_txt = ['고객 체류기간(개월)', '매월 청구액', '총 청구액']  # 후에 딕셔너리로 바꿔서 영<->한 만들어놔도 좋을듯\n",
    "\n",
    "for i in range(len(num_x.columns)):\n",
    "    ax[i].boxplot(num_x.iloc[:, i], vert=False)\n",
    "    ax[i].set_title(f'{num_x.columns[i]} boxplot', size=15)\n",
    "    ax[i].set_xlabel(box_txt[i], size=13)\n",
    "\n",
    "plt.tight_layout()\n",
    "plt.show()"
   ]
  },
  {
   "cell_type": "markdown",
   "id": "3a503d27",
   "metadata": {},
   "source": [
    "- IQR 이상치 제거 기준에 걸리는 값은 없음"
   ]
  },
  {
   "cell_type": "markdown",
   "id": "832adb2c",
   "metadata": {},
   "source": [
    "## 4. EDA"
   ]
  },
  {
   "cell_type": "markdown",
   "id": "a6856fd9",
   "metadata": {},
   "source": [
    "- 참고\n",
    "    - SeniorCitizen: 시니어 고객 유무(1/0)\n",
    "    - Partner: 고객의 파트너 유무(Y/N)\n",
    "    - Dependents: 고객의 부양가족 유무(Y/N)\n",
    "    - tenure: 고객 체류기간(개월)\n",
    "    - PhoneService: 전화 서비스 이용 유무(Y/N)\n",
    "    - MultipleLines: 다회선 보유 유무(Y/N/전화 서비스 없음)\n",
    "    - InternetService: 인터넷 서비스 공급체(DSL/광섬유/No)\n",
    "        - 광섬유는 일반적으로 더 빠르고 안정적이지만, 인프라 제약으로 인해 가용성은 낮음\n",
    "        - DSL: 널리 사용, 저렴해서 일상적인 인터넷 사용에 적합\n",
    "        - 광섬유: 고속 데이터 전송과 짧은 대기 시간이 필요한 기업 또는 사용자에게 적합\n",
    "\n",
    "    - OnlineSecurity: 온라인 보안 사용 유무(Y/N/인터넷 서비스 없음)\n",
    "    - OnlineBackup: 온라인 백업 보유 유무(Y/N/인터넷 서비스 없음)\n",
    "    - DeviceProtection: 기기보호 기능 보유 유무(Y/N/인터넷 서비스 없음)\n",
    "    - TechSupport: 기술 지원 유무(Y/N/인터넷 서비스 없음)\n",
    "    - StreamingTV: 스트리밍TV 사용 유무(Y/N/인터넷 서비스 없음)\n",
    "    - StreamingMovies: 스트리밍 영화 사용 유무(Y/N/인터넷 서비스 없음)\n",
    "    - Contract: 고객 계약기간(월별, 1년, 2년)\n",
    "    - PaperlessBilling: paperless 청구서 사용 유무(Y/N)\n",
    "    - PaymentMethod: 결제 방법(전자수표, 우편수표, 은행송금(자동), 신용카드(자동))\n",
    "    - MonthlyCharges: 매월 청구 금액\n",
    "    - TotalCharges: 총 청구 금액\n",
    "    - Churn: 고객 이탈 유무(Y/N)"
   ]
  },
  {
   "cell_type": "markdown",
   "id": "b76b07e1",
   "metadata": {},
   "source": [
    "### 4.1. 성별에 따른 이탈률(last month)\n",
    "- 전처리 완료 데이터: df_clean1"
   ]
  },
  {
   "cell_type": "code",
   "execution_count": 108,
   "id": "366102bb",
   "metadata": {},
   "outputs": [],
   "source": [
    "# 성별 분포 파악 -> 불균형 데이터는 아님\n",
    "df_clean1['gender'].value_counts()\n",
    "\n",
    "# Male:0, Female:1로 변환\n",
    "df_clean1['gender'] = df_clean1['gender'].replace({'Male':0, 'Female':1})\n",
    "\n",
    "# Churn에서 No:0, Yes:1로 변환\n",
    "df_clean1['Churn'] = df_clean1['Churn'].replace({'No':0, 'Yes':1})"
   ]
  },
  {
   "cell_type": "code",
   "execution_count": 109,
   "id": "7bf0aca7",
   "metadata": {},
   "outputs": [
    {
     "data": {
      "image/png": "[encoded data removed]",
      "text/plain": [
       "<Figure size 432x288 with 1 Axes>"
      ]
     },
     "metadata": {},
     "output_type": "display_data"
    }
   ],
   "source": [
    "# 성별별 이탈률 계산\n",
    "churn_rate = df_clean1.groupby('gender')['Churn'].mean().reset_index()\n",
    "\n",
    "# 시각화\n",
    "plt.figure(figsize=(6, 4))\n",
    "sns.barplot(data=churn_rate, x='gender', y='Churn')\n",
    "\n",
    "plt.title('성별에 따른 이탈률', fontsize=14)\n",
    "plt.xlabel('성별', fontsize=12)\n",
    "plt.ylabel('이탈률', fontsize=12)\n",
    "plt.ylim(0, 1)\n",
    "\n",
    "plt.tight_layout()\n",
    "plt.show()"
   ]
  },
  {
   "cell_type": "markdown",
   "id": "d86da481",
   "metadata": {},
   "source": [
    "- 성별별로 눈에 띄게 큰 이탈률 차이는 없어 보인다.(통계적 검증은 옵션)"
   ]
  },
  {
   "cell_type": "markdown",
   "id": "ac620b56",
   "metadata": {},
   "source": [
    "### 4.2. 파트너 유무에 따른 이탈률"
   ]
  },
  {
   "cell_type": "code",
   "execution_count": 39,
   "id": "de1ba6a3",
   "metadata": {},
   "outputs": [
    {
     "data": {
      "image/png": "[encoded data removed]",
      "text/plain": [
       "<Figure size 432x288 with 1 Axes>"
      ]
     },
     "metadata": {},
     "output_type": "display_data"
    }
   ],
   "source": [
    "# No:0, Yes:1\n",
    "le = LabelEncoder()\n",
    "df_clean1['Partner'] = le.fit_transform(df_clean1['Partner'])\n",
    "\n",
    "# 파트너 유무에 따른 이탈률 계산\n",
    "ch_rate_partner = df_clean1.groupby('Partner')['Churn'].mean().reset_index()\n",
    "\n",
    "# 시각화\n",
    "plt.figure(figsize=(6, 4))\n",
    "sns.barplot(data=ch_rate_partner, x='Partner', y='Churn')\n",
    "\n",
    "plt.title('파트너 유무에 따른 이탈률', fontsize=14)\n",
    "plt.xlabel('파트너 유무', fontsize=12)\n",
    "plt.ylabel('이탈률', fontsize=12)\n",
    "plt.ylim(0, 1)\n",
    "\n",
    "plt.tight_layout()\n",
    "plt.show()"
   ]
  },
  {
   "cell_type": "markdown",
   "id": "b93b40b2",
   "metadata": {},
   "source": [
    "- 파트너가 없는 사람의 이탈률이 좀 더 높은 것으로 보인다."
   ]
  },
  {
   "cell_type": "markdown",
   "id": "b8060809",
   "metadata": {},
   "source": [
    "### 4.3. 부양가족 유무에 따른 이탈률\n",
    "- (추가 data필요)부양가족이 많을수록 이탈률이 적은가?"
   ]
  },
  {
   "cell_type": "code",
   "execution_count": 40,
   "id": "f85fb991",
   "metadata": {},
   "outputs": [
    {
     "data": {
      "image/png": "[encoded data removed]",
      "text/plain": [
       "<Figure size 432x288 with 1 Axes>"
      ]
     },
     "metadata": {},
     "output_type": "display_data"
    }
   ],
   "source": [
    "# No:0, Yes:1\n",
    "le = LabelEncoder()\n",
    "df_clean1['Dependents'] = le.fit_transform(df_clean1['Dependents'])\n",
    "\n",
    "# 부양가족 유무에 따른 이탈률 계산\n",
    "ch_rate_Dependents = df_clean1.groupby('Dependents')['Churn'].mean().reset_index()\n",
    "\n",
    "# 시각화\n",
    "plt.figure(figsize=(6, 4))\n",
    "sns.barplot(data=ch_rate_Dependents, x='Dependents', y='Churn')\n",
    "\n",
    "plt.title('부양가족 유무에 따른 이탈률', fontsize=14)\n",
    "plt.xlabel('부양가족 유무', fontsize=12)\n",
    "plt.ylabel('이탈률', fontsize=12)\n",
    "plt.ylim(0, 1)\n",
    "\n",
    "plt.tight_layout()\n",
    "plt.show()"
   ]
  },
  {
   "cell_type": "markdown",
   "id": "1dad2884",
   "metadata": {},
   "source": [
    "- 부양가족이 없는 사람의 이탈률이 좀 더 높은 것으로 보인다."
   ]
  },
  {
   "cell_type": "markdown",
   "id": "cc2b829f",
   "metadata": {},
   "source": [
    "### 4.4. 체류기간에 따른 이탈률\n",
    "- (H1) 체류기간이 길수록 이탈률은 적을 것이다."
   ]
  },
  {
   "cell_type": "code",
   "execution_count": null,
   "id": "243e0c42",
   "metadata": {},
   "outputs": [
    {
     "name": "stdout",
     "output_type": "stream",
     "text": [
      "-0.354\n"
     ]
    }
   ],
   "source": [
    "# 체류기간과 고객 이탈 간의 상관관계\n",
    "corr = df_clean1['tenure'].corr(df_clean1['Churn'])\n",
    "print(round(corr, 3))  # -0.354이므로 약한 음의 상관관계 존재"
   ]
  },
  {
   "cell_type": "code",
   "execution_count": 58,
   "id": "95d1293a",
   "metadata": {},
   "outputs": [
    {
     "data": {
      "image/png": "[encoded data removed]",
      "text/plain": [
       "<Figure size 432x288 with 1 Axes>"
      ]
     },
     "metadata": {},
     "output_type": "display_data"
    }
   ],
   "source": [
    "# 시각화\n",
    "plt.figure(figsize=(6,4))\n",
    "sns.boxplot(data=df_clean1, x='Churn', y='tenure')\n",
    "\n",
    "plt.title('이탈 여부에 따른 체류기간 비교')\n",
    "plt.xlabel('이탈 여부')\n",
    "plt.ylabel('체류기간 (개월)')\n",
    "plt.show()"
   ]
  },
  {
   "cell_type": "markdown",
   "id": "4fed0e06",
   "metadata": {},
   "source": [
    "- 일반적으로는 이탈한 사람의 체류기간이 더 짧다.\n",
    "- 하지만 이탈한 사람의 일부는 체류기간이 매우 긴 이상치가 존재하여 확인이 필요하다.\n",
    "- '이탈한 사람 -> 체류기간 짧음' 의 역이 성립하는 지는 확인이 필요하다."
   ]
  },
  {
   "cell_type": "markdown",
   "id": "c658c583",
   "metadata": {},
   "source": [
    "### 4.5. 다회선 보유 유무에 따른 이탈률\n",
    "- (H1) 회선이 많을수록 이탈률은 적을 것이다."
   ]
  },
  {
   "cell_type": "code",
   "execution_count": null,
   "id": "b5b22c2a",
   "metadata": {},
   "outputs": [
    {
     "data": {
      "image/png": "[encoded data removed]",
      "text/plain": [
       "<Figure size 432x288 with 1 Axes>"
      ]
     },
     "metadata": {},
     "output_type": "display_data"
    }
   ],
   "source": [
    "# No:0, No phone service:1, Yes:2\n",
    "le = LabelEncoder()\n",
    "df_clean1['MultipleLines'] = le.fit_transform(df_clean1['MultipleLines'])\n",
    "\n",
    "# 다회선 보유 유무에 따른 이탈률 계산\n",
    "ch_rate_MultipleLines = df_clean1.groupby('MultipleLines')['Churn'].mean().reset_index()\n",
    "\n",
    "# 시각화\n",
    "plt.figure(figsize=(6, 4))\n",
    "sns.barplot(data=ch_rate_MultipleLines, x='MultipleLines', y='Churn')\n",
    "\n",
    "plt.title('다회선 보유 유무에 따른 이탈률', fontsize=14)\n",
    "plt.xlabel('다회선 보유 유무', fontsize=12)\n",
    "plt.ylabel('이탈률', fontsize=12)\n",
    "plt.ylim(0, 1)\n",
    "\n",
    "plt.tight_layout()\n",
    "plt.show()"
   ]
  },
  {
   "cell_type": "markdown",
   "id": "8477cbfe",
   "metadata": {},
   "source": [
    "- 회선이 많을수록 오히려 이탈률이 조금 높은 경항을 보인다."
   ]
  },
  {
   "cell_type": "markdown",
   "id": "9a6705b9",
   "metadata": {},
   "source": [
    "### 4.6. 인터넷 서비스 공급체에 따른 이탈률"
   ]
  },
  {
   "cell_type": "code",
   "execution_count": 66,
   "id": "ed645592",
   "metadata": {},
   "outputs": [
    {
     "data": {
      "image/png": "[encoded data removed]",
      "text/plain": [
       "<Figure size 432x288 with 1 Axes>"
      ]
     },
     "metadata": {},
     "output_type": "display_data"
    }
   ],
   "source": [
    "# DSL:0, Fiber optic:1, No:2\n",
    "le = LabelEncoder()\n",
    "df_clean1['InternetService'] = le.fit_transform(df_clean1['InternetService'])\n",
    "\n",
    "# 인터넷 서비스 공급체에 따른 이탈률 계산\n",
    "ch_rate_InternetService = df_clean1.groupby('InternetService')['Churn'].mean().reset_index()\n",
    "\n",
    "# 시각화\n",
    "plt.figure(figsize=(6, 4))\n",
    "sns.barplot(data=ch_rate_InternetService, x='InternetService', y='Churn')\n",
    "\n",
    "plt.title('인터넷 서비스 공급체에 따른 이탈률', fontsize=14)\n",
    "plt.xlabel('인터넷 서비스 공급체', fontsize=12)\n",
    "plt.ylabel('이탈률', fontsize=12)\n",
    "plt.ylim(0, 1)\n",
    "\n",
    "plt.tight_layout()\n",
    "plt.show()"
   ]
  },
  {
   "cell_type": "markdown",
   "id": "126a7e37",
   "metadata": {},
   "source": [
    "- DSL보다 광섬유 공급체를 사용하는 고객의 이탈률이 매우 높은 것으로 보인다."
   ]
  },
  {
   "cell_type": "markdown",
   "id": "40cb70f2",
   "metadata": {},
   "source": [
    "### 4.7. 온라인 보안/백업/기기보호 사용 유무에 따른 이탈률"
   ]
  },
  {
   "cell_type": "code",
   "execution_count": 81,
   "id": "7b50c309",
   "metadata": {},
   "outputs": [
    {
     "data": {
      "image/png": "[encoded data removed]",
      "text/plain": [
       "<Figure size 1080x288 with 3 Axes>"
      ]
     },
     "metadata": {},
     "output_type": "display_data"
    }
   ],
   "source": [
    "# 온라인 보안 유무에 따른 이탈률 계산\n",
    "ch_rate_OnlineSecurity = df_clean1.groupby('OnlineSecurity')['Churn'].mean().reset_index()\n",
    "# 온라인 백업 유무에 따른 이탈률 계산\n",
    "ch_rate_OnlineBackup = df_clean1.groupby('OnlineBackup')['Churn'].mean().reset_index()\n",
    "# 기기보호 사용 유무에 따른 이탈률 계산\n",
    "ch_rate_DeviceProtection = df_clean1.groupby('DeviceProtection')['Churn'].mean().reset_index()\n",
    "\n",
    "\n",
    "# 온라인 보안 유무에 따른 이탈률 시각화\n",
    "fig, ax = plt.subplots(1, 3, figsize=(15, 4))\n",
    "sns.barplot(data=ch_rate_OnlineSecurity, x='OnlineSecurity', y='Churn', ax=ax[0])\n",
    "\n",
    "ax[0].set_title('온라인 보안 유무에 따른 이탈률', fontsize=14)\n",
    "ax[0].set_xlabel('온라인 보안 유무', fontsize=12)\n",
    "ax[0].set_ylabel('이탈률', fontsize=12)\n",
    "ax[0].set_ylim(0, 1)\n",
    "\n",
    "\n",
    "# 온라인 백업 유무에 따른 이탈률 시각화\n",
    "sns.barplot(data=ch_rate_OnlineBackup, x='OnlineBackup', y='Churn', ax=ax[1])\n",
    "\n",
    "ax[1].set_title('온라인 백업 유무에 따른 이탈률', fontsize=14)\n",
    "ax[1].set_xlabel('온라인 백업 유무', fontsize=12)\n",
    "ax[1].set_ylabel('이탈률', fontsize=12)\n",
    "ax[1].set_ylim(0, 1)\n",
    "\n",
    "\n",
    "# 기기보호 사용 유무에 따른 이탈률 시각화\n",
    "sns.barplot(data=ch_rate_DeviceProtection, x='DeviceProtection', y='Churn', ax=ax[2])\n",
    "\n",
    "ax[2].set_title('기기보호 사용 유무에 따른 이탈률', fontsize=14)\n",
    "ax[2].set_xlabel('기기보호 사용 유무', fontsize=12)\n",
    "ax[2].set_ylabel('이탈률', fontsize=12)\n",
    "ax[2].set_ylim(0, 1)\n",
    "\n",
    "plt.tight_layout()\n",
    "plt.show()"
   ]
  },
  {
   "cell_type": "markdown",
   "id": "e9fb6dc0",
   "metadata": {},
   "source": [
    "- 온라인 보안, 백업, 기기보호를 사용하지 않는 고객의 이탈률이 더 높은 것으로 보인다."
   ]
  },
  {
   "cell_type": "markdown",
   "id": "e009738a",
   "metadata": {},
   "source": [
    "### 4.8. 기술지원 유무에 따른 이탈률"
   ]
  },
  {
   "cell_type": "code",
   "execution_count": 83,
   "id": "a8183f51",
   "metadata": {},
   "outputs": [
    {
     "data": {
      "image/png": "[encoded data removed]",
      "text/plain": [
       "<Figure size 432x288 with 1 Axes>"
      ]
     },
     "metadata": {},
     "output_type": "display_data"
    }
   ],
   "source": [
    "# 기술지원 유무에 따른 이탈률 계산\n",
    "ch_rate_TechSupport = df_clean1.groupby('TechSupport')['Churn'].mean().reset_index()\n",
    "\n",
    "# 시각화\n",
    "plt.figure(figsize=(6, 4))\n",
    "sns.barplot(data=ch_rate_TechSupport, x='TechSupport', y='Churn')\n",
    "\n",
    "plt.title('기술지원 유무에 따른 이탈률', fontsize=14)\n",
    "plt.xlabel('기술지원 유무', fontsize=12)\n",
    "plt.ylabel('이탈률', fontsize=12)\n",
    "plt.ylim(0, 1)\n",
    "\n",
    "plt.tight_layout()\n",
    "plt.show()"
   ]
  },
  {
   "cell_type": "markdown",
   "id": "ed54a1c9",
   "metadata": {},
   "source": [
    "- 기술지원을 받지 않은 고객의 이탈률이 기술지원을 받는 고객보다 더 높은 것을 알 수 있다."
   ]
  },
  {
   "cell_type": "markdown",
   "id": "59e52c5f",
   "metadata": {},
   "source": [
    "### 4.8. 스트리밍 TV/영화 사용 유무에 따른 이탈률"
   ]
  },
  {
   "cell_type": "code",
   "execution_count": 84,
   "id": "2ac511c2",
   "metadata": {},
   "outputs": [
    {
     "data": {
      "image/png": "[encoded data removed]",
      "text/plain": [
       "<Figure size 1080x288 with 2 Axes>"
      ]
     },
     "metadata": {},
     "output_type": "display_data"
    }
   ],
   "source": [
    "# 스트리밍TV 사용 유무에 따른 이탈률 계산\n",
    "ch_rate_StreamingTV = df_clean1.groupby('StreamingTV')['Churn'].mean().reset_index()\n",
    "# 스트리밍 영화 사용 유무에 따른 이탈률 계산\n",
    "ch_rate_StreamingMovies = df_clean1.groupby('StreamingMovies')['Churn'].mean().reset_index()\n",
    "\n",
    "\n",
    "# 스트리밍TV 사용 유무에 따른 이탈률 시각화\n",
    "fig, ax = plt.subplots(1, 2, figsize=(15, 4))\n",
    "sns.barplot(data=ch_rate_StreamingTV, x='StreamingTV', y='Churn', ax=ax[0])\n",
    "\n",
    "ax[0].set_title('스트리밍TV 사용 유무에 따른 이탈률', fontsize=14)\n",
    "ax[0].set_xlabel('스트리밍TV 사용 유무', fontsize=12)\n",
    "ax[0].set_ylabel('이탈률', fontsize=12)\n",
    "ax[0].set_ylim(0, 1)\n",
    "\n",
    "\n",
    "# 스트리밍 영화 사용 유무에 따른 이탈률 시각화\n",
    "sns.barplot(data=ch_rate_StreamingMovies, x='StreamingMovies', y='Churn', ax=ax[1])\n",
    "\n",
    "ax[1].set_title('스트리밍 영화 사용 유무에 따른 이탈률', fontsize=14)\n",
    "ax[1].set_xlabel('스트리밍 영화 사용 유무', fontsize=12)\n",
    "ax[1].set_ylabel('이탈률', fontsize=12)\n",
    "ax[1].set_ylim(0, 1)\n",
    "\n",
    "plt.tight_layout()\n",
    "plt.show()"
   ]
  },
  {
   "cell_type": "markdown",
   "id": "a4228330",
   "metadata": {},
   "source": [
    "- 스트리밍TV 또는 스트리밍 영화를 사용하지 않는 고객의 이탈률이 좀 더 높긴 하지만, 사용하는 고객과의 큰 이탈률 차이는 보이지 않는다."
   ]
  },
  {
   "cell_type": "markdown",
   "id": "6f7e3952",
   "metadata": {},
   "source": [
    "### 4.9. 계약기간에 따른 이탈률\n",
    "- (H1) 계약기간이 짧으면 이탈률이 클 것이다."
   ]
  },
  {
   "cell_type": "code",
   "execution_count": 85,
   "id": "2a4b6694",
   "metadata": {},
   "outputs": [
    {
     "data": {
      "image/png": "[encoded data removed]",
      "text/plain": [
       "<Figure size 432x288 with 1 Axes>"
      ]
     },
     "metadata": {},
     "output_type": "display_data"
    }
   ],
   "source": [
    "# 계약기간에 따른 이탈률 계산\n",
    "ch_rate_Contract = df_clean1.groupby('Contract')['Churn'].mean().reset_index()\n",
    "\n",
    "# 시각화\n",
    "plt.figure(figsize=(6, 4))\n",
    "sns.barplot(data=ch_rate_Contract, x='Contract', y='Churn')\n",
    "\n",
    "plt.title('계약기간에 따른 이탈률', fontsize=14)\n",
    "plt.xlabel('계약기간', fontsize=12)\n",
    "plt.ylabel('이탈률', fontsize=12)\n",
    "plt.ylim(0, 1)\n",
    "\n",
    "plt.tight_layout()\n",
    "plt.show()"
   ]
  },
  {
   "cell_type": "markdown",
   "id": "4dec4a41",
   "metadata": {},
   "source": [
    "- 월별로 갱신되는 계약, 1년 계약, 2년 계약 순으로 이탈률이 높은 것을 알 수 있다.\n",
    "- 월별 갱신 계약의 이탈률이 상대적으로 매우 높기 때문에 해당 고객군에 대해 이탈률을 낮출 수 있는 방안이 필요할 것으로 생각된다."
   ]
  },
  {
   "cell_type": "markdown",
   "id": "3a853970",
   "metadata": {},
   "source": [
    "### 4.10. 매월 청구액/총 청구액에 따른 이탈률\n",
    "- (H1) 매월 청구액/총 청구액이 많을수록 이탈률이 클 것이다."
   ]
  },
  {
   "cell_type": "code",
   "execution_count": 89,
   "id": "2f8d8b8b",
   "metadata": {},
   "outputs": [
    {
     "name": "stdout",
     "output_type": "stream",
     "text": [
      "0.193\n",
      "-0.199\n"
     ]
    }
   ],
   "source": [
    "# 매월 청구액과 고객 이탈 간의 상관관계\n",
    "corr = df_clean1['MonthlyCharges'].corr(df_clean1['Churn'])\n",
    "print(round(corr, 3))  # 0.193이므로 상관관계가 거의 존재하지 않음\n",
    "\n",
    "# 총 청구액과 고객 이탈 간의 상관관계\n",
    "corr_tot = df_clean1['TotalCharges'].corr(df_clean1['Churn'])\n",
    "print(round(corr_tot, 3))  # -0.199이므로 상관관계가 거의 존재하지 않음"
   ]
  },
  {
   "cell_type": "code",
   "execution_count": 93,
   "id": "723ff5e4",
   "metadata": {},
   "outputs": [
    {
     "data": {
      "image/png": "[encoded data removed]",
      "text/plain": [
       "<Figure size 720x288 with 2 Axes>"
      ]
     },
     "metadata": {},
     "output_type": "display_data"
    }
   ],
   "source": [
    "# 시각화\n",
    "fig, ax = plt.subplots(1, 2, figsize=(10,4))\n",
    "\n",
    "# 매월 청구액\n",
    "sns.boxplot(data=df_clean1, x='Churn', y='MonthlyCharges', ax=ax[0])\n",
    "ax[0].set_title('이탈 여부에 따른 매월 청구액 비교')\n",
    "ax[0].set_xlabel('이탈 여부')\n",
    "ax[0].set_ylabel('매월 청구액')\n",
    "\n",
    "# 총 청구액\n",
    "sns.boxplot(data=df_clean1, x='Churn', y='TotalCharges', ax=ax[1])\n",
    "ax[1].set_title('이탈 여부에 따른 총 청구액 비교')\n",
    "ax[1].set_xlabel('이탈 여부')\n",
    "ax[1].set_ylabel('총 청구액')\n",
    "\n",
    "plt.tight_layout()\n",
    "plt.show()"
   ]
  },
  {
   "cell_type": "markdown",
   "id": "db15caab",
   "metadata": {},
   "source": [
    "- 이탈 고객은 상대적으로 매월 청구액이 높은 경향을 보인다.\n",
    "- 총 청구액의 경우, 이탈 고객에서 오히려 낮은 경향을 보이지만, 매우 큰 청구액(이상치)이 존재하므로, 추가적인 분석이 필요하다.\n",
    "- 또한, '이탈 고객 -> 매월 청구액 비교적 높음'의 역이 성립하는지도 추가적인 확인이 필요하다."
   ]
  },
  {
   "cell_type": "markdown",
   "id": "c9c7ff79",
   "metadata": {},
   "source": [
    "## 5. 문자형 데이터 처리 및 스케일링"
   ]
  },
  {
   "cell_type": "markdown",
   "id": "5054c2d6",
   "metadata": {},
   "source": [
    "1. 문자형 데이터\n",
    "- 라벨 인코딩\n",
    "    - 트리계열 모델(DT, RF)에서 주로 사용\n",
    "    - 트리계열 모델은 수치의 특성을 반영하지 않기 때문\n",
    "- 원핫 인코딩\n",
    "    - 선형 모델(LR, SVM 등)에서 사용\n",
    "    - 선형 모델의 경우 수치가 가중치에 영향을 주기 때문\n",
    "\n",
    "2. 수치형 데이터\n",
    "- Min-Max Scailing\n",
    "- StandardScaler\n",
    "    - 이상치에 민감하므로 이상치가 많지 않은 데이터에 사용\n",
    "    - 데이터가 정규분포에 가까울수록 좋음\n",
    "    - 대부분 ML모델에 적합"
   ]
  },
  {
   "cell_type": "code",
   "execution_count": 98,
   "id": "054c470d",
   "metadata": {},
   "outputs": [],
   "source": [
    "# 중복이 없는 고객ID열은 삭제 가능(불필요)\n",
    "df_clean1['customerID'].duplicated().sum()\n",
    "df_clean2 = df_clean1.drop(columns='customerID').copy()"
   ]
  },
  {
   "cell_type": "code",
   "execution_count": 100,
   "id": "393e7052",
   "metadata": {},
   "outputs": [],
   "source": [
    "# 뒤에서 트리계열 모델을 사용할 예정이므로, 먼저 라벨 인코딩 진행\n",
    "# df_clean2 기준 PhoneService, OnlineBackup, DeviceProtection, TechSupport, StreamingTV, StreamingMovies, Contract, PaperlessBilling, PaymentMethod 필요\n",
    "le = LabelEncoder()\n",
    "cat_list = ['PhoneService', 'OnlineBackup', 'DeviceProtection', 'TechSupport', 'StreamingTV', 'StreamingMovies', 'Contract', 'PaperlessBilling', 'PaymentMethod']\n",
    "\n",
    "for cat in cat_list:\n",
    "    df_clean2[cat] = le.fit_transform(df_clean2[cat])"
   ]
  },
  {
   "cell_type": "code",
   "execution_count": 105,
   "id": "eeb965ef",
   "metadata": {},
   "outputs": [],
   "source": [
    "# 수치형 변수 스케일링\n",
    "scaler = StandardScaler()\n",
    "numc_list = ['tenure', 'MonthlyCharges', 'TotalCharges']\n",
    "\n",
    "df_clean2[numc_list] = scaler.fit_transform(df_clean2[numc_list])"
   ]
  },
  {
   "cell_type": "code",
   "execution_count": 107,
   "id": "5bc88875",
   "metadata": {},
   "outputs": [
    {
     "data": {
      "text/html": [
       "<div>\n",
       "<style scoped>\n",
       "    .dataframe tbody tr th:only-of-type {\n",
       "        vertical-align: middle;\n",
       "    }\n",
       "\n",
       "    .dataframe tbody tr th {\n",
       "        vertical-align: top;\n",
       "    }\n",
       "\n",
       "    .dataframe thead th {\n",
       "        text-align: right;\n",
       "    }\n",
       "</style>\n",
       "<table border=\"1\" class=\"dataframe\">\n",
       "  <thead>\n",
       "    <tr style=\"text-align: right;\">\n",
       "      <th></th>\n",
       "      <th>gender</th>\n",
       "      <th>SeniorCitizen</th>\n",
       "      <th>Partner</th>\n",
       "      <th>Dependents</th>\n",
       "      <th>tenure</th>\n",
       "      <th>PhoneService</th>\n",
       "      <th>MultipleLines</th>\n",
       "      <th>InternetService</th>\n",
       "      <th>OnlineSecurity</th>\n",
       "      <th>OnlineBackup</th>\n",
       "      <th>DeviceProtection</th>\n",
       "      <th>TechSupport</th>\n",
       "      <th>StreamingTV</th>\n",
       "      <th>StreamingMovies</th>\n",
       "      <th>Contract</th>\n",
       "      <th>PaperlessBilling</th>\n",
       "      <th>PaymentMethod</th>\n",
       "      <th>MonthlyCharges</th>\n",
       "      <th>TotalCharges</th>\n",
       "      <th>Churn</th>\n",
       "    </tr>\n",
       "  </thead>\n",
       "  <tbody>\n",
       "    <tr>\n",
       "      <th>7038</th>\n",
       "      <td>0</td>\n",
       "      <td>0</td>\n",
       "      <td>1</td>\n",
       "      <td>1</td>\n",
       "      <td>-0.343137</td>\n",
       "      <td>1</td>\n",
       "      <td>2</td>\n",
       "      <td>0</td>\n",
       "      <td>2</td>\n",
       "      <td>0</td>\n",
       "      <td>2</td>\n",
       "      <td>2</td>\n",
       "      <td>2</td>\n",
       "      <td>2</td>\n",
       "      <td>1</td>\n",
       "      <td>1</td>\n",
       "      <td>3</td>\n",
       "      <td>0.664868</td>\n",
       "      <td>-0.129180</td>\n",
       "      <td>0</td>\n",
       "    </tr>\n",
       "    <tr>\n",
       "      <th>7039</th>\n",
       "      <td>1</td>\n",
       "      <td>0</td>\n",
       "      <td>1</td>\n",
       "      <td>1</td>\n",
       "      <td>1.612573</td>\n",
       "      <td>1</td>\n",
       "      <td>2</td>\n",
       "      <td>1</td>\n",
       "      <td>0</td>\n",
       "      <td>2</td>\n",
       "      <td>2</td>\n",
       "      <td>0</td>\n",
       "      <td>2</td>\n",
       "      <td>2</td>\n",
       "      <td>1</td>\n",
       "      <td>1</td>\n",
       "      <td>1</td>\n",
       "      <td>1.276493</td>\n",
       "      <td>2.241056</td>\n",
       "      <td>0</td>\n",
       "    </tr>\n",
       "    <tr>\n",
       "      <th>7040</th>\n",
       "      <td>1</td>\n",
       "      <td>0</td>\n",
       "      <td>1</td>\n",
       "      <td>1</td>\n",
       "      <td>-0.872808</td>\n",
       "      <td>0</td>\n",
       "      <td>1</td>\n",
       "      <td>0</td>\n",
       "      <td>2</td>\n",
       "      <td>0</td>\n",
       "      <td>0</td>\n",
       "      <td>0</td>\n",
       "      <td>0</td>\n",
       "      <td>0</td>\n",
       "      <td>0</td>\n",
       "      <td>1</td>\n",
       "      <td>2</td>\n",
       "      <td>-1.170004</td>\n",
       "      <td>-0.854514</td>\n",
       "      <td>0</td>\n",
       "    </tr>\n",
       "    <tr>\n",
       "      <th>7041</th>\n",
       "      <td>0</td>\n",
       "      <td>1</td>\n",
       "      <td>1</td>\n",
       "      <td>0</td>\n",
       "      <td>-1.158016</td>\n",
       "      <td>1</td>\n",
       "      <td>2</td>\n",
       "      <td>1</td>\n",
       "      <td>0</td>\n",
       "      <td>0</td>\n",
       "      <td>0</td>\n",
       "      <td>0</td>\n",
       "      <td>0</td>\n",
       "      <td>0</td>\n",
       "      <td>0</td>\n",
       "      <td>1</td>\n",
       "      <td>3</td>\n",
       "      <td>0.319168</td>\n",
       "      <td>-0.872095</td>\n",
       "      <td>1</td>\n",
       "    </tr>\n",
       "    <tr>\n",
       "      <th>7042</th>\n",
       "      <td>0</td>\n",
       "      <td>0</td>\n",
       "      <td>0</td>\n",
       "      <td>0</td>\n",
       "      <td>1.368109</td>\n",
       "      <td>1</td>\n",
       "      <td>0</td>\n",
       "      <td>1</td>\n",
       "      <td>2</td>\n",
       "      <td>0</td>\n",
       "      <td>2</td>\n",
       "      <td>2</td>\n",
       "      <td>2</td>\n",
       "      <td>2</td>\n",
       "      <td>2</td>\n",
       "      <td>1</td>\n",
       "      <td>0</td>\n",
       "      <td>1.357932</td>\n",
       "      <td>2.012344</td>\n",
       "      <td>0</td>\n",
       "    </tr>\n",
       "  </tbody>\n",
       "</table>\n",
       "</div>"
      ],
      "text/plain": [
       "      gender  SeniorCitizen  Partner  Dependents    tenure  PhoneService  \\\n",
       "7038       0              0        1           1 -0.343137             1   \n",
       "7039       1              0        1           1  1.612573             1   \n",
       "7040       1              0        1           1 -0.872808             0   \n",
       "7041       0              1        1           0 -1.158016             1   \n",
       "7042       0              0        0           0  1.368109             1   \n",
       "\n",
       "      MultipleLines  InternetService  OnlineSecurity  OnlineBackup  \\\n",
       "7038              2                0               2             0   \n",
       "7039              2                1               0             2   \n",
       "7040              1                0               2             0   \n",
       "7041              2                1               0             0   \n",
       "7042              0                1               2             0   \n",
       "\n",
       "      DeviceProtection  TechSupport  StreamingTV  StreamingMovies  Contract  \\\n",
       "7038                 2            2            2                2         1   \n",
       "7039                 2            0            2                2         1   \n",
       "7040                 0            0            0                0         0   \n",
       "7041                 0            0            0                0         0   \n",
       "7042                 2            2            2                2         2   \n",
       "\n",
       "      PaperlessBilling  PaymentMethod  MonthlyCharges  TotalCharges  Churn  \n",
       "7038                 1              3        0.664868     -0.129180      0  \n",
       "7039                 1              1        1.276493      2.241056      0  \n",
       "7040                 1              2       -1.170004     -0.854514      0  \n",
       "7041                 1              3        0.319168     -0.872095      1  \n",
       "7042                 1              0        1.357932      2.012344      0  "
      ]
     },
     "execution_count": 107,
     "metadata": {},
     "output_type": "execute_result"
    }
   ],
   "source": [
    "df_clean2.tail()"
   ]
  }
 ],
 "metadata": {
  "kernelspec": {
   "display_name": "Python 3",
   "language": "python",
   "name": "python3"
  },
  "language_info": {
   "codemirror_mode": {
    "name": "ipython",
    "version": 3
   },
   "file_extension": ".py",
   "mimetype": "text/x-python",
   "name": "python",
   "nbconvert_exporter": "python",
   "pygments_lexer": "ipython3",
   "version": "3.10.5"
  }
 },
 "nbformat": 4,
 "nbformat_minor": 5
}
